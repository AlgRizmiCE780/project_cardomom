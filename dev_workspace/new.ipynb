import tensorflow as tf

# Check physical GPUs
physical_gpus = tf.config.list_physical_devices('GPU')
print("Physical GPUs:", len(physical_gpus))

for gpu in physical_gpus:
    print("GPU:", gpu)

# Check logical GPUs
logical_gpus = tf.config.list_logical_devices('GPU')
print("Logical GPUs:", len(logical_gpus))

for gpu in logical_gpus:
    print("Logical GPU:", gpu)
